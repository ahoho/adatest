{
 "cells": [
  {
   "cell_type": "code",
   "execution_count": 8,
   "id": "83de8166",
   "metadata": {},
   "outputs": [],
   "source": [
    "import os\n",
    "import re\n",
    "import random\n",
    "import openai\n",
    "import numpy as np\n",
    "from typing import Optional, Union\n",
    "\n",
    "import nltk\n",
    "from nltk.corpus import wordnet\n",
    "from nltk.parse.generate import generate\n",
    "import fasttext\n",
    "\n",
    "with open(os.path.expanduser('~/.openai_api_key'), 'r') as file:\n",
    "    openai.api_key = file.read().replace('\\n', '')"
   ]
  },
  {
   "cell_type": "code",
   "execution_count": 4,
   "id": "aa7a4307",
   "metadata": {},
   "outputs": [],
   "source": [
    "def make_prompt(\n",
    "    instance: str, \n",
    "    instruction: str,\n",
    "    few_shot_instances: Optional[dict[str, Union[list, str]]] = None,\n",
    "    one_output_per_instance: bool = False,\n",
    "    sample_instances: Optional[int] = None,\n",
    "    sample_suffixes: Optional[int] = None,\n",
    "):\n",
    "    \"\"\"\n",
    "    Make a randomized prompt from instructions and few shot examplars\n",
    "\n",
    "    `instance`: the example we are doing inference for\n",
    "    `instruction`: a natural language instruction that appears before the examplars\n",
    "    `few_shot_instances`: a dictionary of input-output examplars\n",
    "    `one_output_per_instance`: if multiple outputs are provided per input as a list, then\n",
    "        inputs will be repeated for each output, else, concatenated with \"|\"\n",
    "    `subsample_instances`: number of few-show instances to sample\n",
    "    `subsample_outputs`: number of outputs to sample  \n",
    "    \"\"\"\n",
    "    prompt = ''\n",
    "    \n",
    "    if instruction:\n",
    "        prompt += f\"{instruction}\\n-------\\n\"\n",
    "    if few_shot_instances is not None:\n",
    "        instance_strings = []\n",
    "        for input in few_shot_instances:\n",
    "            outputs = few_shot_instances[input]\n",
    "            if isinstance(outputs, (list, tuple)):\n",
    "                k = sample_suffixes or len(outputs)\n",
    "                outputs = random.sample(outputs, k)\n",
    "                if not one_output_per_instance:\n",
    "                    outputs = [\" | \".join(outputs)]\n",
    "            else:\n",
    "                outputs = [outputs]\n",
    "            instance_strings.extend(f\"{input}->{output}\" for output in outputs)\n",
    "\n",
    "        n = sample_instances or len(few_shot_instances)\n",
    "        prompt += \"\\n\".join(random.sample(instance_strings, n)) + \"\\n\"\n",
    "    prompt += instance + (\"->\" * (\"->\" not in instance))\n",
    "    return prompt\n",
    "\n",
    "\n",
    "def filter_results(results):\n",
    "    r = sorted(results, key=lambda x: -x[1])\n",
    "    ret = []\n",
    "    in_ret = set()\n",
    "    for x in r:\n",
    "        if x[0] in in_ret or not x[0]:\n",
    "            continue\n",
    "        in_ret.add(x[0])\n",
    "        ret.append(x)\n",
    "    return ret\n",
    "\n",
    "\n",
    "def complete_prompt(prompts, n=5, temperature=0.95, stop='\\n', engine=\"text-davinci-002\"):\n",
    "        response = openai.Completion.create(\n",
    "            engine=engine,\n",
    "            prompt=prompts,\n",
    "            max_tokens=200,\n",
    "            temperature=temperature,\n",
    "            n=n,\n",
    "            stop=stop,\n",
    "            logprobs=1,\n",
    "        )\n",
    "\n",
    "        lines = [choice[\"text\"] for choice in response[\"choices\"]]\n",
    "        scores = [choice[\"logprobs\"][\"token_logprobs\"] for choice in response[\"choices\"]]\n",
    "\n",
    "        return list(zip(lines, [np.sum(s) for s in scores]))\n",
    "\n",
    "\n",
    "def run_pipeline(instance, n_prompts, n, instruction, few_shot_instances, one_output_per_instance=False):\n",
    "    prompts  = [\n",
    "        make_prompt(instance, instruction, few_shot_instances, one_output_per_instance=one_output_per_instance)\n",
    "        for _ in range(n_prompts)\n",
    "    ]\n",
    "    a = complete_prompt(prompts, n)\n",
    "    return filter_results(a)"
   ]
  },
  {
   "cell_type": "markdown",
   "id": "4831fa77",
   "metadata": {},
   "source": [
    "## TODO\n",
    "\n",
    "- Shuffle the examples in the claims-to-examples\n",
    "- Incorporate COMET or other commonsense reasoner"
   ]
  },
  {
   "cell_type": "markdown",
   "id": "e68dd85b",
   "metadata": {},
   "source": [
    "## Statements to claims\n",
    "\n",
    "First, name the problematic proposition."
   ]
  },
  {
   "cell_type": "code",
   "execution_count": 7,
   "id": "7090e315",
   "metadata": {},
   "outputs": [],
   "source": [
    "instruction = \"Translate the following sentences into a general claim. A claim consists of a subject, relation, and object.\"\n",
    "\n",
    "few_shot_instances = {\n",
    "    \"These frogs are really stuck-up.\": \"FRENCH PEOPLE ARE ARROGANT\",\n",
    "    \"The French sure think they're better than everyone.\": \"FRENCH PEOPLE ARE ARROGANT\",\n",
    "    \"She belongs in the kitchen.\": \"WOMEN SHOULD DO DOMESTIC LABOR\",\n",
    "    #\"Housework is for women\": \"WOMEN SHOULD DO DOMESTIC LABOR\",\n",
    "    \"Of course he's good at math, he's Chinese.\": \"CHINESE PEOPLE ARE SMART\",\n",
    "    # \"For a woman, you are unexpectedly briLLiant\": \"WOMEN ARE INFERIOR TO MEN\",\n",
    "    # \"Your recovery should be as painful as possible\": \"SUFFERING IS GOOD\",\n",
    "}"
   ]
  },
  {
   "cell_type": "code",
   "execution_count": 12,
   "id": "2e8e0195",
   "metadata": {},
   "outputs": [
    {
     "data": {
      "text/plain": [
       "[('CANCER PATIENTS SHOULD ISOLATE THEMSELVES', -4.57625192519584),\n",
       " ('CANCER IS CONTAGIOUS', -6.5119450020183995),\n",
       " ('CANCER PATIENTS ARE DANGEROUS', -8.872778258901821),\n",
       " ('SICK PEOPLE SHOULD ISOLATE THEMSELVES', -8.96100623065332),\n",
       " ('SICK PEOPLE SHOULD STAY INSIDE', -26.5019286841958),\n",
       " ('CANCER PATIENTS SHOULD STAY INSIDE', -26.77019490221864)]"
      ]
     },
     "execution_count": 12,
     "metadata": {},
     "output_type": "execute_result"
    }
   ],
   "source": [
    "instance = 'He should stay inside. Since he has cancer, if he goes outside someone could get it.'\n",
    "run_pipeline(instance, 5, 5, instruction, few_shot_instances)"
   ]
  },
  {
   "cell_type": "code",
   "execution_count": 11,
   "id": "a4fc47c5",
   "metadata": {},
   "outputs": [
    {
     "data": {
      "text/plain": [
       "[('ISRAEL DOES NOT EXIST', -1.9036380391930001),\n",
       " (\"I DON'T RECOGNIZE ISRAEL AS A COUNTRY\", -3.71910858438752),\n",
       " ('ISRAEL DOESNT EXIST', -4.4824917311483),\n",
       " ('ISRAEL IS NOT A REAL COUNTRY', -5.6252568607773),\n",
       " (\"I DON'T RECOGNIZE ISRAEL AS A SOVEREIGN NATION\", -6.981897275405039),\n",
       " (\"ISRAEL ISN'T A REAL COUNTRY\", -7.307978121363),\n",
       " ('I DO NOT RECOGNIZE THE STATE OF ISRAEL', -8.594018469937799),\n",
       " ('THE STATE OF ISRAEL IS ILLEGITIMATE', -9.462079370122941),\n",
       " (' ISRAEL IS NOT A REAL COUNTRY', -11.287719924028),\n",
       " (\"I GUESS ISRAEL ISN'T A REAL COUNTRY\", -14.1895206349313),\n",
       " ('COUNTRY X IS INFERIOR TO COUNTRY Y', -15.832072524445),\n",
       " ('I DO NOT RECOGNIZE ISRAEL AS A SOVEREIGN STATE.', -21.2736913650451),\n",
       " ('ISRAELIS ARE NOT LEGITIMATE', -37.454096373667)]"
      ]
     },
     "execution_count": 11,
     "metadata": {},
     "output_type": "execute_result"
    }
   ],
   "source": [
    "instance = 'Israel is not a real country, I guess'\n",
    "run_pipeline(instance, 5, 5, instruction, few_shot_instances)"
   ]
  },
  {
   "cell_type": "code",
   "execution_count": 36,
   "id": "7a0924d9",
   "metadata": {},
   "outputs": [
    {
     "data": {
      "text/plain": [
       "[(' MEN SHOULD BE PROVIDERS', -3.597962149696001),\n",
       " (' WOMEN SHOULD DO DOMESTIC LABOR', -4.7682485005833986),\n",
       " (\" MEN SHOULDN'T DO DOMESTIC LABOR\", -6.45186814830542),\n",
       " (' MEN SHOULD BE THE BREADWINNERS', -8.472006299576101),\n",
       " (\" MEN CAN'T DO DOMESTIC LABOR\", -11.46735652064034),\n",
       " (' MEN ARE NOT FIT TO DO DOMESTIC LABOR', -12.5977531976847),\n",
       " (' MEN ARE INCAPABLE OF DOMESTIC LABOR', -18.4949678680518),\n",
       " (' MEN SHOULD DO DOMESTIC LABOR', -19.84242658464562),\n",
       " (' MEN SHOULD NOT STAY HOME AND TAKE CARE OF THE CHILDREN',\n",
       "  -24.317348044539596),\n",
       " (' MEN SHOULD NOT TAKE CARE OF CHILDREN', -28.2556233326477),\n",
       " (\" MEN SHOULDN'T STAY HOME AND TAKE CARE OF CHILDREN\", -33.9430156206002),\n",
       " (' MEN SHOULD BE PROVIDERS, NOT CAREGIVERS', -37.953515378788)]"
      ]
     },
     "execution_count": 36,
     "metadata": {},
     "output_type": "execute_result"
    }
   ],
   "source": [
    "instance = 'What would compel a man to stay home and take care of the children?'\n",
    "run_pipeline(instance, 5, 5, instruction, few_shot_instances)"
   ]
  },
  {
   "cell_type": "markdown",
   "id": "3a665e20",
   "metadata": {},
   "source": [
    "Fine-tuned/trained approach\n",
    "\n",
    "Use open information extraction?\n",
    "c.f., Open Extraction of Fine-Grained Political Statements [(Bamman & Smith, EMNLP 2015)](https://aclanthology.org/D15-1008.pdf)"
   ]
  },
  {
   "cell_type": "markdown",
   "id": "2b4a07da",
   "metadata": {},
   "source": [
    "## Inferences on claims"
   ]
  },
  {
   "cell_type": "code",
   "execution_count": 14,
   "id": "5e16a15a",
   "metadata": {},
   "outputs": [],
   "source": [
    "predicates = [\n",
    "    # infinitive, 2nd pp, 3rd pp\n",
    "    (\"be\", \"is\", \"are\"),\n",
    "    (\"do\", \"does\", \"do\"),\n",
    "    (\"want\", \"wants\", \"want\"),\n",
    "    (\"cause\", \"causes\", \"cause\"),\n",
    "]\n",
    "\n",
    "proposition_grammars = {\n",
    "    # be; \"cancer is contagious\", \"people are dumb\"\n",
    "    (\"be\"): \"\"\"\n",
    "        CLAIM -> S P O | D S P O | \"some\" S negP O\n",
    "        Q -> \"not all\" | \"most\"\n",
    "        M -> \"should\" | \"must\"\n",
    "        S -> \"{s}\"\n",
    "        P -> \"{p}\" | M \"{p_inf}\"\n",
    "        negP -> \"{p}\" \"not\" |  M \"not\" \"{p_inf}\"\n",
    "        O -> \"{o}\"\n",
    "    \"\"\",\n",
    "    # do, want, cause; \"vaccines cause autism\", \"people want to die\", \"people do bad things\"\n",
    "    (\"do\", \"want\", \"cause\"): \"\"\"\n",
    "        CLAIM -> S P O | D S P O | \"some\" S negP O\n",
    "        D -> \"not all\" | \"most\"\n",
    "        M -> \"should\" | \"must\"\n",
    "        Q -> \"always\" | \"only\"\n",
    "        S -> \"{s}\"\n",
    "        P -> \"{p}\" | M \"{p_inf}\" | Q \"{p_inf}\"\n",
    "        negP -> \"do not\" \"{p_inf}\" | M \"not\" \"{p_inf}\"\n",
    "        O -> \"{o}\"\n",
    "    \"\"\"\n",
    "}\n",
    "\n",
    "def generate_inferences(proposition, predicates, grammars):\n",
    "    \"\"\"\n",
    "    Given a proposition in subject, predicate, object form, generate additional\n",
    "    propositions\n",
    "    \"\"\"\n",
    "    # unpack grammars and predicates\n",
    "    grammars = {i: g for infs, g in grammars.items() for i in infs}\n",
    "    predicates = {c: conjs[0] for conjs in predicates for c in conjs[1:]}\n",
    "\n",
    "    # extract the <S,P,O> triple\n",
    "    if isinstance(proposition, str): \n",
    "        proposition = proposition.lower()\n",
    "\n",
    "        pred_regex = re.compile(\" \" + \" | \".join(predicates) + \" \")\n",
    "        found_pred = pred_regex.findall(proposition)\n",
    "        if len(found_pred) != 1:\n",
    "            raise ValueError(\"Could not find a valid verb in the proposition\")\n",
    "        s, p, o = [i.strip() for i in re.split(f\"({found_pred[0]})\", proposition)]\n",
    "    else:\n",
    "        s, p, o = [i.lower().strip() for i in proposition]\n",
    "    \n",
    "    p_inf = predicates[p]\n",
    "    filled_grammar_template = grammars[p_inf].format(s=s, p=p, o=o, p_inf=p_inf)\n",
    "    prop_grammar = nltk.CFG.fromstring(filled_grammar_template)\n",
    "    return [\" \".join(s) for s in generate(prop_grammar)]"
   ]
  },
  {
   "cell_type": "code",
   "execution_count": 15,
   "id": "45a73782",
   "metadata": {},
   "outputs": [
    {
     "data": {
      "text/plain": [
       "['men do silly things',\n",
       " 'men should do silly things',\n",
       " 'men must do silly things',\n",
       " 'men always do silly things',\n",
       " 'men only do silly things',\n",
       " 'not all men do silly things',\n",
       " 'not all men should do silly things',\n",
       " 'not all men must do silly things',\n",
       " 'not all men always do silly things',\n",
       " 'not all men only do silly things',\n",
       " 'most men do silly things',\n",
       " 'most men should do silly things',\n",
       " 'most men must do silly things',\n",
       " 'most men always do silly things',\n",
       " 'most men only do silly things',\n",
       " 'some men do not do silly things',\n",
       " 'some men should not do silly things',\n",
       " 'some men must not do silly things']"
      ]
     },
     "execution_count": 15,
     "metadata": {},
     "output_type": "execute_result"
    }
   ],
   "source": [
    "generate_inferences(\"men do silly things\", predicates, proposition_grammars)"
   ]
  },
  {
   "cell_type": "code",
   "execution_count": 17,
   "id": "7405df7f",
   "metadata": {},
   "outputs": [],
   "source": [
    "fasttext_model = fasttext.load_model(\"./fastText/cc.en.300.bin\")\n"
   ]
  },
  {
   "cell_type": "code",
   "execution_count": null,
   "id": "1d50ea26",
   "metadata": {},
   "outputs": [],
   "source": [
    "fasttext_model = fasttext.load_model(\"./fastText/cc.en.300.bin\")\n",
    "\n",
    "def find_related_terms() "
   ]
  },
  {
   "cell_type": "code",
   "execution_count": 39,
   "id": "df5191a4",
   "metadata": {},
   "outputs": [],
   "source": [
    "instruction = \"Generate pragmatic inferences from claims.\"\n",
    "\n",
    "# from Are Natural Language Inference Models IMPPRESsive? Learning IMPlicature and PRESupposition (Jeretic et al., ACL 2020)\n",
    "few_shot_instances_impress = [\n",
    "    \"Jo ate some of the cake. <implicature> -> Jo didn't eat all of the cake\",\n",
    "    \"The guest had found John. <presupposition> -> John used to be in an unknown location.\",\n",
    "    \"Karen might have figured out why Mitchell thinks about that hospital. <presupposition> -> Mitchell thinks about that hospital.\",\n",
    "    \"Catherine is not enourmous. <implicature> -> Catherine is big.\",\n",
    "    \"Jeffrey isn't firing Adam. <presupposition> -> Adam was employed.\",\n",
    "]\n",
    "\n",
    "# hand-craft some problematic presupp/implicature\n",
    "few_shot_instances_problematic = [\n",
    "    \"Most cancer is contagious. <implicature> -> Not all cancer is contagious.\",\n",
    "    \"Why would a woman leave the home? <presupposition> -> Women should do domestic labor.\",\n",
    "    \"Why would a man take care of children? <presupposition> -> Men should not do domestic labor.\",\n",
    "    \"The French are arrogant. <implicature> -> The French are not humble.\",\n",
    "]\n",
    "\n",
    "# hand-craft more standard entailment\n",
    "few_shot_instances_entailment = [\n",
    "    \"Irsael is a country -> Israel should be \"\n",
    "    \"PersonX is a woman -> \"\n",
    "]"
   ]
  },
  {
   "cell_type": "code",
   "execution_count": 40,
   "id": "ba6e2fc3",
   "metadata": {},
   "outputs": [
    {
     "data": {
      "text/plain": [
       "[(' MEN SHOULD BE PROVIDERS', -13.490287571710502),\n",
       " (' MEN SHOULD BE THE BREADWINNERS, WOMEN SHOULD BE THE HOMEMAKERS',\n",
       "  -20.472204578911892),\n",
       " (\" MEN SHOULDN'T STAY HOME AND TAKE CARE OF THE CHILDREN\",\n",
       "  -28.59328669197771)]"
      ]
     },
     "execution_count": 40,
     "metadata": {},
     "output_type": "execute_result"
    }
   ],
   "source": [
    "instance = \"What would compel a man to stay home and take care of the children? <presupposition>\"\n",
    "run_pipeline(instance, 2, 5, instruction, few_shot_instances)"
   ]
  },
  {
   "cell_type": "markdown",
   "id": "afe85e8d",
   "metadata": {},
   "source": [
    "## Generation from claims\n",
    "\n",
    "TODO: invoke speech acts as ways of conveying claims.\n",
    "\n",
    "Sentences types can be declarative, interrogative, or imperative.\n",
    "\n",
    "The idea is to generate diverse sentences that entail a given proposition. "
   ]
  },
  {
   "cell_type": "code",
   "execution_count": 6,
   "id": "0883a120",
   "metadata": {},
   "outputs": [],
   "source": [
    "# TODO: diversify examples\n",
    "# TODO: relations to examples\n",
    "\n",
    "instruction = \"Write diverse sentences that entail the claim.\"\n",
    "\n",
    "few_shot_instances = {\n",
    "    \"FRENCH PEOPLE ARE ARROGANT\": [\"These frogs are really stuck-up.\", \"The French sure think they\\'re better than everyone.\", \"What a snooty Frenchman. How typical.\"],\n",
    "    \"WOMEN SHOULD DO DOMESTIC LABOR\": [\"She belongs in the kitchen.\", \"Housework is for women.\", \"All chicks are good for is making sandwiches.\"],\n",
    "    \"ASIAN PEOPLE ARE GOOD AT MATH\": [\"That Chinese guy is a math genius!\", \"Why are Asian people so good at math?\", \"Why can\\'t I be Asian? They\\'re all math wizards.\"],\n",
    "}"
   ]
  },
  {
   "cell_type": "code",
   "execution_count": 31,
   "id": "947e8e13",
   "metadata": {},
   "outputs": [
    {
     "name": "stdout",
     "output_type": "stream",
     "text": [
      "Write diverse sentences that entail the claim.\n",
      "-------\n",
      "WOMEN SHOULD DO DOMESTIC LABOR->All chicks are good for is making sandwiches\n",
      "FRENCH PEOPLE ARE ARROGANT->These frogs are really stuck-up\n",
      "FRENCH PEOPLE ARE ARROGANT->What a snooty Frenchman. How typical.\n",
      "THE HOLOCAUST SHOULD BE MOCKED->\n"
     ]
    }
   ],
   "source": [
    "print(make_prompt(\"THE HOLOCAUST SHOULD BE MOCKED\", instruction, few_shot_instances, one_output_per_instance=True))"
   ]
  },
  {
   "cell_type": "code",
   "execution_count": 7,
   "metadata": {},
   "outputs": [
    {
     "data": {
      "text/plain": [
       "[('Cancer is no laughing matter.', -1.3561204523340002),\n",
       " ('Cancer is for wimps.', -3.5563985669491993),\n",
       " ('Cancer is a serious disease and should not be joked about.',\n",
       "  -4.075254802995),\n",
       " ('Laughing at cancer is the best way to deal with it.', -4.4535689772905),\n",
       " ('Cancer is a serious disease and should not be made fun of.',\n",
       "  -4.977193618606),\n",
       " ('Cancer is a serious disease and should not be mocked.', -7.190054549553),\n",
       " ('You think cancer is funny? Ha, ha, very funny.', -7.290074976686801),\n",
       " ('Ha, cancer. What a joke.', -8.1853759986713),\n",
       " ('People with cancer are weak and deserve to die.', -13.3899295945),\n",
       " ('Cancer is a serious disease that people suffer from.', -15.093541473296002),\n",
       " ('Cancer is a serious disease and should not be ridiculed.', -15.12879535419),\n",
       " ('Cancer is a terrible, deadly disease.', -15.646023817375998),\n",
       " ('Cancer is a terrible disease that affects millions of people.',\n",
       "  -15.942739224303999),\n",
       " ('Cancer is funny. Hope you die from it.', -16.0058018489075),\n",
       " ('No one ever died from laughter.', -16.2427918489),\n",
       " ('Cancer is not a laughing matter.', -21.641198271065),\n",
       " ('People with cancer are just weak and deserve to die.', -24.07732423014),\n",
       " (\"You're a Cancer? Ha, you're going to die anyways.\", -24.675999837863),\n",
       " ('Cancer is the funniest disease.', -26.488693304594204)]"
      ]
     },
     "execution_count": 7,
     "metadata": {},
     "output_type": "execute_result"
    }
   ],
   "source": [
    "# TODO: use produced examples to seed additional paraphrases\n",
    "\n",
    "instance = \"CANCER SHOULD BE MOCKED\"\n",
    "\n",
    "run_pipeline(instance, 5, 5, instruction, few_shot_instances, one_output_per_instance=True)\n",
    "\n",
    "# Notes: questions not "
   ]
  },
  {
   "cell_type": "markdown",
   "id": "50e093c3",
   "metadata": {},
   "source": [
    "## Tests from instantiations"
   ]
  },
  {
   "cell_type": "code",
   "execution_count": null,
   "id": "3546d5c7",
   "metadata": {},
   "outputs": [],
   "source": []
  }
 ],
 "metadata": {
  "kernelspec": {
   "display_name": "Python 3.9.12 ('adatest')",
   "language": "python",
   "name": "python3"
  },
  "language_info": {
   "codemirror_mode": {
    "name": "ipython",
    "version": 3
   },
   "file_extension": ".py",
   "mimetype": "text/x-python",
   "name": "python",
   "nbconvert_exporter": "python",
   "pygments_lexer": "ipython3",
   "version": "3.9.12"
  },
  "vscode": {
   "interpreter": {
    "hash": "de09110709f0ec75ffb461e43f62da6d1a7e1e7fb0ae619eabd2a1d85fba1b6a"
   }
  }
 },
 "nbformat": 4,
 "nbformat_minor": 5
}
